{
 "cells": [
  {
   "cell_type": "code",
   "execution_count": 1,
   "metadata": {
    "ExecuteTime": {
     "end_time": "2023-06-07T17:14:19.250663Z",
     "start_time": "2023-06-07T17:14:18.747476Z"
    }
   },
   "outputs": [],
   "source": [
    "import netaddr\n",
    "import ipaddress\n",
    "import maxminddb\n",
    "import pandas as pd\n",
    "from tqdm import tqdm\n",
    "from io import StringIO\n",
    "from netaddr import IPSet\n",
    "from mmdb_writer import MMDBWriter"
   ]
  },
  {
   "cell_type": "markdown",
   "metadata": {},
   "source": [
    "# load data "
   ]
  },
  {
   "cell_type": "code",
   "execution_count": 2,
   "metadata": {
    "scrolled": false
   },
   "outputs": [],
   "source": [
    "with open(\"./data/cidrs.txt\", \"r\") as file:\n",
    "    text = file.read()"
   ]
  },
  {
   "cell_type": "code",
   "execution_count": 3,
   "metadata": {},
   "outputs": [],
   "source": [
    "cidrs = text.split(\"\\n\")\n",
    "cidrs = [item for item in cidrs if len(item) > 0]"
   ]
  },
  {
   "cell_type": "code",
   "execution_count": 4,
   "metadata": {},
   "outputs": [],
   "source": [
    "cidrs = pd.Series(cidrs).unique()\n",
    "# only use version 4 cidrs\n",
    "cidrs = [cidr for cidr in cidrs if ipaddress.ip_network(cidr).version == 4]"
   ]
  },
  {
   "cell_type": "code",
   "execution_count": 5,
   "metadata": {},
   "outputs": [
    {
     "name": "stderr",
     "output_type": "stream",
     "text": [
      "100%|██████████████████████████████████████| 1945/1945 [00:05<00:00, 369.73it/s]\n"
     ]
    }
   ],
   "source": [
    "def remove_not_superne(cidrs_list):    \n",
    "    remove_list = []\n",
    "    # calc network for each cirdr, catch for speed up\n",
    "    cidr2network = {}\n",
    "    for cidr in cidrs_list:\n",
    "        cidr2network[cidr] = ipaddress.ip_network(cidr)\n",
    "    \n",
    "    for i in tqdm(range(0, len(cidrs_list))):\n",
    "        cird_i = cidrs_list[i]    \n",
    "        if(cird_i in remove_list):\n",
    "            continue\n",
    "        network1 = cidr2network[cird_i]\n",
    "        for j in range(i+1, len(cidrs_list)):        \n",
    "            cird_j = cidrs_list[j]        \n",
    "            network2 = cidr2network[cird_j]\n",
    "            if network1.supernet_of(network2):                \n",
    "                remove_list.append(cird_j)            \n",
    "            elif network2.supernet_of(network1):                \n",
    "                remove_list.append(cird_i)  \n",
    "                break        \n",
    "    return remove_list \n",
    "\n",
    "rm = remove_not_superne(cidrs)"
   ]
  },
  {
   "cell_type": "code",
   "execution_count": 6,
   "metadata": {},
   "outputs": [
    {
     "name": "stdout",
     "output_type": "stream",
     "text": [
      "1945\n",
      "0\n",
      "1945\n"
     ]
    }
   ],
   "source": [
    "print(len(cidrs))\n",
    "print(len(rm))\n",
    "cidrs = set(cidrs) - set(rm)\n",
    "print(len(cidrs))"
   ]
  },
  {
   "cell_type": "markdown",
   "metadata": {},
   "source": [
    "# MMDB Writer"
   ]
  },
  {
   "cell_type": "code",
   "execution_count": 7,
   "metadata": {},
   "outputs": [
    {
     "name": "stderr",
     "output_type": "stream",
     "text": [
      "100%|████████████████████████████████████| 1945/1945 [00:00<00:00, 13260.92it/s]\n"
     ]
    }
   ],
   "source": [
    "writer = MMDBWriter()\n",
    "for cidr in tqdm(cidrs):    \n",
    "    writer.insert_network(IPSet([cidr]), {'country': 'IR', 'isp': \"NA\"})    \n",
    "writer.to_db_file('geoipIR.mmdb')"
   ]
  },
  {
   "cell_type": "markdown",
   "metadata": {},
   "source": [
    "#  Test dataste"
   ]
  },
  {
   "cell_type": "code",
   "execution_count": 11,
   "metadata": {},
   "outputs": [
    {
     "data": {
      "text/plain": [
       "{'country': 'IR', 'isp': 'NA'}"
      ]
     },
     "execution_count": 11,
     "metadata": {},
     "output_type": "execute_result"
    }
   ],
   "source": [
    "m = maxminddb.open_database('geoipIR.mmdb')\n",
    "ip = \"79.127.127.16\"\n",
    "r = m.get(ip)\n",
    "r"
   ]
  }
 ],
 "metadata": {
  "kernelspec": {
   "display_name": "Python 3 (ipykernel)",
   "language": "python",
   "name": "python3"
  },
  "language_info": {
   "codemirror_mode": {
    "name": "ipython",
    "version": 3
   },
   "file_extension": ".py",
   "mimetype": "text/x-python",
   "name": "python",
   "nbconvert_exporter": "python",
   "pygments_lexer": "ipython3",
   "version": "3.10.9"
  }
 },
 "nbformat": 4,
 "nbformat_minor": 4
}
