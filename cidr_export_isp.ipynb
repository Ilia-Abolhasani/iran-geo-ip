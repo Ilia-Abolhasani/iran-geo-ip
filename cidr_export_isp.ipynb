{
 "cells": [
  {
   "cell_type": "markdown",
   "metadata": {
    "ExecuteTime": {
     "end_time": "2024-01-14T22:11:18.122133Z",
     "start_time": "2024-01-14T22:11:17.559101Z"
    }
   },
   "source": [
    "# Import"
   ]
  },
  {
   "cell_type": "code",
   "execution_count": null,
   "metadata": {},
   "outputs": [],
   "source": [
    "import netaddr\n",
    "import ipaddress\n",
    "import maxminddb\n",
    "import pandas as pd\n",
    "from tqdm import tqdm\n",
    "from io import StringIO\n",
    "from netaddr import IPSet\n",
    "from mmdb_writer import MMDBWriter"
   ]
  },
  {
   "cell_type": "markdown",
   "metadata": {},
   "source": [
    "# Load data"
   ]
  },
  {
   "cell_type": "code",
   "execution_count": 10,
   "metadata": {
    "ExecuteTime": {
     "end_time": "2024-01-14T22:16:23.688771Z",
     "start_time": "2024-01-14T22:16:23.648727Z"
    },
    "scrolled": false
   },
   "outputs": [
    {
     "data": {
      "text/html": [
       "<div>\n",
       "<style scoped>\n",
       "    .dataframe tbody tr th:only-of-type {\n",
       "        vertical-align: middle;\n",
       "    }\n",
       "\n",
       "    .dataframe tbody tr th {\n",
       "        vertical-align: top;\n",
       "    }\n",
       "\n",
       "    .dataframe thead th {\n",
       "        text-align: right;\n",
       "    }\n",
       "</style>\n",
       "<table border=\"1\" class=\"dataframe\">\n",
       "  <thead>\n",
       "    <tr style=\"text-align: right;\">\n",
       "      <th></th>\n",
       "      <th>0</th>\n",
       "      <th>1</th>\n",
       "      <th>2</th>\n",
       "      <th>3</th>\n",
       "      <th>4</th>\n",
       "    </tr>\n",
       "  </thead>\n",
       "  <tbody>\n",
       "    <tr>\n",
       "      <th>0</th>\n",
       "      <td>2.144.0.0</td>\n",
       "      <td>2.147.255.255</td>\n",
       "      <td>262144</td>\n",
       "      <td>22/10/10</td>\n",
       "      <td>Iran Cell Service and Communication Company</td>\n",
       "    </tr>\n",
       "    <tr>\n",
       "      <th>1</th>\n",
       "      <td>2.176.0.0</td>\n",
       "      <td>2.191.255.255</td>\n",
       "      <td>1048576</td>\n",
       "      <td>18/10/10</td>\n",
       "      <td>Information Technology Company (ITC)</td>\n",
       "    </tr>\n",
       "    <tr>\n",
       "      <th>2</th>\n",
       "      <td>5.22.0.0</td>\n",
       "      <td>5.22.127.255</td>\n",
       "      <td>32768</td>\n",
       "      <td>03/05/12</td>\n",
       "      <td>Mobile Communication Company of Iran PLC</td>\n",
       "    </tr>\n",
       "    <tr>\n",
       "      <th>3</th>\n",
       "      <td>5.22.192.0</td>\n",
       "      <td>5.22.223.255</td>\n",
       "      <td>8192</td>\n",
       "      <td>04/05/12</td>\n",
       "      <td>Dadeh Pardazan Sabz Alborz Co.(P.J.S.)</td>\n",
       "    </tr>\n",
       "    <tr>\n",
       "      <th>4</th>\n",
       "      <td>5.52.0.0</td>\n",
       "      <td>5.52.255.255</td>\n",
       "      <td>65536</td>\n",
       "      <td>25/05/12</td>\n",
       "      <td>Mobile Communication Company of Iran PLC</td>\n",
       "    </tr>\n",
       "  </tbody>\n",
       "</table>\n",
       "</div>"
      ],
      "text/plain": [
       "            0              1        2         3  \\\n",
       "0   2.144.0.0  2.147.255.255   262144  22/10/10   \n",
       "1   2.176.0.0  2.191.255.255  1048576  18/10/10   \n",
       "2    5.22.0.0   5.22.127.255    32768  03/05/12   \n",
       "3  5.22.192.0   5.22.223.255     8192  04/05/12   \n",
       "4    5.52.0.0   5.52.255.255    65536  25/05/12   \n",
       "\n",
       "                                             4  \n",
       "0  Iran Cell Service and Communication Company  \n",
       "1         Information Technology Company (ITC)  \n",
       "2     Mobile Communication Company of Iran PLC  \n",
       "3       Dadeh Pardazan Sabz Alborz Co.(P.J.S.)  \n",
       "4     Mobile Communication Company of Iran PLC  "
      ]
     },
     "execution_count": 10,
     "metadata": {},
     "output_type": "execute_result"
    }
   ],
   "source": [
    "df = pd.read_csv(\"./data/isp.csv\", header=None)\n",
    "df.head()"
   ]
  },
  {
   "cell_type": "markdown",
   "metadata": {},
   "source": [
    "# convert to cidr"
   ]
  },
  {
   "cell_type": "code",
   "execution_count": null,
   "metadata": {},
   "outputs": [],
   "source": []
  }
 ],
 "metadata": {
  "kernelspec": {
   "display_name": "Python 3",
   "language": "python",
   "name": "python3"
  },
  "language_info": {
   "codemirror_mode": {
    "name": "ipython",
    "version": 3
   },
   "file_extension": ".py",
   "mimetype": "text/x-python",
   "name": "python",
   "nbconvert_exporter": "python",
   "pygments_lexer": "ipython3",
   "version": "3.8.10"
  }
 },
 "nbformat": 4,
 "nbformat_minor": 4
}
