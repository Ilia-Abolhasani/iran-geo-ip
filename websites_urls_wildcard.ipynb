{
 "cells": [
  {
   "cell_type": "code",
   "execution_count": 1,
   "metadata": {
    "ExecuteTime": {
     "end_time": "2023-06-07T16:28:41.012058Z",
     "start_time": "2023-06-07T16:28:40.527958Z"
    }
   },
   "outputs": [],
   "source": [
    "import pandas as pd"
   ]
  },
  {
   "cell_type": "code",
   "execution_count": 2,
   "metadata": {
    "ExecuteTime": {
     "end_time": "2023-06-07T16:28:41.141426Z",
     "start_time": "2023-06-07T16:28:41.024951Z"
    }
   },
   "outputs": [],
   "source": [
    "df = pd.read_csv(\"Export-14020317161730.csv\")"
   ]
  },
  {
   "cell_type": "code",
   "execution_count": 3,
   "metadata": {
    "ExecuteTime": {
     "end_time": "2023-06-07T16:28:41.875943Z",
     "start_time": "2023-06-07T16:28:41.852397Z"
    },
    "scrolled": true
   },
   "outputs": [
    {
     "data": {
      "text/html": [
       "<div>\n",
       "<style scoped>\n",
       "    .dataframe tbody tr th:only-of-type {\n",
       "        vertical-align: middle;\n",
       "    }\n",
       "\n",
       "    .dataframe tbody tr th {\n",
       "        vertical-align: top;\n",
       "    }\n",
       "\n",
       "    .dataframe thead th {\n",
       "        text-align: right;\n",
       "    }\n",
       "</style>\n",
       "<table border=\"1\" class=\"dataframe\">\n",
       "  <thead>\n",
       "    <tr style=\"text-align: right;\">\n",
       "      <th></th>\n",
       "      <th>نشانی وب‌سایت</th>\n",
       "      <th>IPv4</th>\n",
       "      <th>IPNetwork</th>\n",
       "      <th>تاریخ بروزرسانی</th>\n",
       "      <th>حداکثر مهلت اعمال توسط اپراتور</th>\n",
       "    </tr>\n",
       "  </thead>\n",
       "  <tbody>\n",
       "    <tr>\n",
       "      <th>0</th>\n",
       "      <td>http://getasa.ir</td>\n",
       "      <td>77.238.120.100/32</td>\n",
       "      <td>77.238.120.100/32</td>\n",
       "      <td>1396/11/08</td>\n",
       "      <td>1396/11/15</td>\n",
       "    </tr>\n",
       "    <tr>\n",
       "      <th>1</th>\n",
       "      <td>http://pluswebmaster.ir</td>\n",
       "      <td>37.228.136.138/32</td>\n",
       "      <td>37.228.136.138/32</td>\n",
       "      <td>1396/11/14</td>\n",
       "      <td>1396/11/15</td>\n",
       "    </tr>\n",
       "    <tr>\n",
       "      <th>2</th>\n",
       "      <td>http://pluswebmaster.com</td>\n",
       "      <td>37.228.136.138/32</td>\n",
       "      <td>37.228.136.138/32</td>\n",
       "      <td>1396/11/14</td>\n",
       "      <td>1396/11/15</td>\n",
       "    </tr>\n",
       "    <tr>\n",
       "      <th>3</th>\n",
       "      <td>http://ipresta.ir</td>\n",
       "      <td>185.88.152.150/32</td>\n",
       "      <td>185.88.152.150/32</td>\n",
       "      <td>1396/11/15</td>\n",
       "      <td>1396/12/15</td>\n",
       "    </tr>\n",
       "    <tr>\n",
       "      <th>4</th>\n",
       "      <td>http://ariogames.ir</td>\n",
       "      <td>185.129.169.160/31</td>\n",
       "      <td>185.129.169.160/31</td>\n",
       "      <td>1396/11/16</td>\n",
       "      <td>1396/12/15</td>\n",
       "    </tr>\n",
       "  </tbody>\n",
       "</table>\n",
       "</div>"
      ],
      "text/plain": [
       "              نشانی وب‌سایت                IPv4           IPNetwork  \\\n",
       "0          http://getasa.ir   77.238.120.100/32   77.238.120.100/32   \n",
       "1   http://pluswebmaster.ir   37.228.136.138/32   37.228.136.138/32   \n",
       "2  http://pluswebmaster.com   37.228.136.138/32   37.228.136.138/32   \n",
       "3         http://ipresta.ir   185.88.152.150/32   185.88.152.150/32   \n",
       "4       http://ariogames.ir  185.129.169.160/31  185.129.169.160/31   \n",
       "\n",
       "  تاریخ بروزرسانی حداکثر مهلت اعمال توسط اپراتور  \n",
       "0      1396/11/08                     1396/11/15  \n",
       "1      1396/11/14                     1396/11/15  \n",
       "2      1396/11/14                     1396/11/15  \n",
       "3      1396/11/15                     1396/12/15  \n",
       "4      1396/11/16                     1396/12/15  "
      ]
     },
     "execution_count": 3,
     "metadata": {},
     "output_type": "execute_result"
    }
   ],
   "source": [
    "df.head()"
   ]
  },
  {
   "cell_type": "code",
   "execution_count": 4,
   "metadata": {
    "ExecuteTime": {
     "end_time": "2023-06-07T16:28:42.456397Z",
     "start_time": "2023-06-07T16:28:42.450522Z"
    }
   },
   "outputs": [],
   "source": [
    "def remove(input_urls):\n",
    "    urls = input_urls.copy()\n",
    "    urls.sort(key=lambda s: len(s))\n",
    "    del_list = []\n",
    "    for i in range(0, len(urls)):\n",
    "        for j in range(i+1, len(urls)):\n",
    "            if(urls[i] in urls[j]):\n",
    "                del_list.append(urls[j])            \n",
    "    return list(set(urls) - set(del_list))"
   ]
  },
  {
   "cell_type": "code",
   "execution_count": 5,
   "metadata": {
    "ExecuteTime": {
     "end_time": "2023-06-07T16:29:07.052595Z",
     "start_time": "2023-06-07T16:28:43.127779Z"
    }
   },
   "outputs": [
    {
     "name": "stdout",
     "output_type": "stream",
     "text": [
      "46662\n",
      "18904\n",
      "18718\n",
      "17597\n",
      "13260\n"
     ]
    }
   ],
   "source": [
    "urls = df.iloc[:,0]\n",
    "urls = urls.apply(lambda x: x.lower())\n",
    "urls = urls.apply(lambda x: x.replace(\"http://\", \"\").replace(\"https://\", \"\"))\n",
    "print(urls.shape[0])\n",
    "urls = urls[urls.apply(lambda x: x[-3:] != \".ir\")]\n",
    "print(urls.shape[0])\n",
    "urls = urls[urls.apply(lambda x: x[-4:] != \".ir/\")]\n",
    "print(urls.shape[0])\n",
    "urls = list(urls)\n",
    "urls = list(set(urls))\n",
    "print(len(urls))\n",
    "urls = remove(urls)\n",
    "print(len(urls))\n"
   ]
  },
  {
   "cell_type": "code",
   "execution_count": 6,
   "metadata": {
    "ExecuteTime": {
     "end_time": "2023-06-07T16:29:07.078795Z",
     "start_time": "2023-06-07T16:29:07.056490Z"
    }
   },
   "outputs": [],
   "source": [
    "all = []\n",
    "for u in urls:\n",
    "    parts = u.split(\".\")\n",
    "    for i in range(0, len(parts)-1):\n",
    "        all.append(\".\".join(parts[i:]))"
   ]
  },
  {
   "cell_type": "code",
   "execution_count": 7,
   "metadata": {
    "ExecuteTime": {
     "end_time": "2023-06-07T16:29:07.098170Z",
     "start_time": "2023-06-07T16:29:07.082482Z"
    }
   },
   "outputs": [],
   "source": [
    "freq = pd.Series(all).value_counts() "
   ]
  },
  {
   "cell_type": "code",
   "execution_count": 8,
   "metadata": {
    "ExecuteTime": {
     "end_time": "2023-06-07T16:29:07.105934Z",
     "start_time": "2023-06-07T16:29:07.101526Z"
    }
   },
   "outputs": [],
   "source": [
    "freq = freq[freq > 2]"
   ]
  },
  {
   "cell_type": "code",
   "execution_count": 9,
   "metadata": {
    "ExecuteTime": {
     "end_time": "2023-06-07T16:29:07.112371Z",
     "start_time": "2023-06-07T16:29:07.108664Z"
    }
   },
   "outputs": [],
   "source": [
    "sites = []\n",
    "for i in freq.index:\n",
    "    sites.append(i)"
   ]
  },
  {
   "cell_type": "code",
   "execution_count": 10,
   "metadata": {
    "ExecuteTime": {
     "end_time": "2023-06-07T16:29:07.118883Z",
     "start_time": "2023-06-07T16:29:07.115243Z"
    }
   },
   "outputs": [],
   "source": [
    "urls = [*urls, *sites]"
   ]
  },
  {
   "cell_type": "code",
   "execution_count": 11,
   "metadata": {
    "ExecuteTime": {
     "end_time": "2023-06-07T16:29:20.595158Z",
     "start_time": "2023-06-07T16:29:07.121691Z"
    },
    "scrolled": true
   },
   "outputs": [
    {
     "name": "stdout",
     "output_type": "stream",
     "text": [
      "11855\n"
     ]
    }
   ],
   "source": [
    "urls = remove(urls)\n",
    "print(len(urls))"
   ]
  },
  {
   "cell_type": "code",
   "execution_count": 24,
   "metadata": {
    "ExecuteTime": {
     "end_time": "2023-06-07T16:35:37.232899Z",
     "start_time": "2023-06-07T16:35:37.220496Z"
    }
   },
   "outputs": [],
   "source": [
    "new_urls = []\n",
    "for url in urls:\n",
    "    if(not url.replace(\".\", \"\").replace(\":\", \"\").replace(\"/\", \"\").isnumeric()):\n",
    "        new_urls.append(url)        "
   ]
  },
  {
   "cell_type": "code",
   "execution_count": 25,
   "metadata": {
    "ExecuteTime": {
     "end_time": "2023-06-07T16:35:41.033427Z",
     "start_time": "2023-06-07T16:35:41.026763Z"
    }
   },
   "outputs": [
    {
     "data": {
      "text/plain": [
       "11654"
      ]
     },
     "execution_count": 25,
     "metadata": {},
     "output_type": "execute_result"
    }
   ],
   "source": [
    "len(new_urls)"
   ]
  },
  {
   "cell_type": "code",
   "execution_count": 26,
   "metadata": {
    "ExecuteTime": {
     "end_time": "2023-06-07T16:35:42.183918Z",
     "start_time": "2023-06-07T16:35:42.178274Z"
    }
   },
   "outputs": [],
   "source": [
    "with open('urls.txt', 'w') as file:\n",
    "    file.write(\"\\n\".join(new_urls))"
   ]
  },
  {
   "cell_type": "code",
   "execution_count": null,
   "metadata": {},
   "outputs": [],
   "source": []
  }
 ],
 "metadata": {
  "kernelspec": {
   "display_name": "Python 3 (ipykernel)",
   "language": "python",
   "name": "python3"
  },
  "language_info": {
   "codemirror_mode": {
    "name": "ipython",
    "version": 3
   },
   "file_extension": ".py",
   "mimetype": "text/x-python",
   "name": "python",
   "nbconvert_exporter": "python",
   "pygments_lexer": "ipython3",
   "version": "3.10.9"
  }
 },
 "nbformat": 4,
 "nbformat_minor": 4
}
